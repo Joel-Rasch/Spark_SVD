{
 "cells": [
  {
   "cell_type": "code",
   "execution_count": 2,
   "id": "9b131084-99a5-406e-99f9-5bed661008d0",
   "metadata": {},
   "outputs": [],
   "source": [
    "from pyspark.sql import SparkSession  \n",
    "  \n",
    "# Erstellen Sie eine Spark-Session, die sich mit dem Spark-Master verbindet  \n",
    "spark = SparkSession.builder \\\n",
    "    .master(\"spark://spark-master:7077\") \\\n",
    "    .appName(\"Meine Spark App\") \\\n",
    "    .getOrCreate()  \n",
    "num_partitions = 4  # Eine Partition pro Worker\n",
    "data = list(range(100000000))\n",
    "\n",
    "# RDD erstellen mit expliziter Partitionierung\n",
    "rdd = spark.sparkContext.parallelize(data, num_partitions)\n",
    "\n",
    "# Beispiel-Berechnung\n",
    "def compute_complex(x):\n",
    "    # Simuliert eine aufwändige Berechnung\n",
    "    return np.sin(x) * np.cos(x) * np.tan(x)\n",
    "\n",
    "result = rdd.map(compute_complex) \n",
    "spark.stop()    \n",
    "  \n",
    "\n"
   ]
  },
  {
   "cell_type": "code",
   "execution_count": 1,
   "id": "75675edb-496f-4b10-bbfa-da050258d9ae",
   "metadata": {},
   "outputs": [],
   "source": [
    "from pyspark.sql import SparkSession  \n",
    "spark = SparkSession.builder \\\n",
    "    .appName(\"Cluster-Spark-Job\") \\\n",
    "    .master(\"spark://spark-master:7077\") \\\n",
    "    .config(\"spark.executor.memory\", \"2g\") \\\n",
    "    .config(\"spark.executor.cores\", \"1\") \\\n",
    "    .config(\"spark.executor.instances\", \"4\") \\\n",
    "    .getOrCreate()\n",
    "num_partitions = 4  # Eine Partition pro Worker\n",
    "data = list(range(100000000))\n",
    "\n",
    "# RDD erstellen mit expliziter Partitionierung\n",
    "rdd = spark.sparkContext.parallelize(data, num_partitions)\n",
    "\n",
    "# Beispiel-Berechnung\n",
    "def compute_complex(x):\n",
    "    # Simuliert eine aufwändige Berechnung\n",
    "    return np.sin(x) * np.cos(x) * np.tan(x)\n",
    "\n",
    "result = rdd.map(compute_complex) \n",
    "spark.stop() "
   ]
  },
  {
   "cell_type": "code",
   "execution_count": 4,
   "id": "7f8f7a82-b421-46e1-acce-eb3b1d5cf999",
   "metadata": {},
   "outputs": [],
   "source": [
    "# Vergessen Sie nicht, die Spark-Session zu schließen, wenn Sie fertig sind  \n"
   ]
  },
  {
   "cell_type": "code",
   "execution_count": 5,
   "id": "8f31ab04-2f9d-4c35-892f-4ddb635ec37a",
   "metadata": {},
   "outputs": [],
   "source": [
    "spark.stop()"
   ]
  }
 ],
 "metadata": {
  "kernelspec": {
   "display_name": "Python 3 (ipykernel)",
   "language": "python",
   "name": "python3"
  },
  "language_info": {
   "codemirror_mode": {
    "name": "ipython",
    "version": 3
   },
   "file_extension": ".py",
   "mimetype": "text/x-python",
   "name": "python",
   "nbconvert_exporter": "python",
   "pygments_lexer": "ipython3",
   "version": "3.11.6"
  }
 },
 "nbformat": 4,
 "nbformat_minor": 5
}
