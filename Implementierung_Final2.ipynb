{
 "cells": [
  {
   "cell_type": "code",
   "execution_count": 116,
   "id": "3390f0e9-ffd1-4a6e-ba5a-911c8456c5e8",
   "metadata": {},
   "outputs": [],
   "source": [
    "#Final CODE PARALLEL\n",
    "import numpy as np\n",
    "from numpy.linalg import eigh\n",
    "import pyspark\n",
    "from pyspark import SparkContext\n",
    "from pyspark.mllib.linalg import Matrices\n",
    "from pyspark.mllib.linalg.distributed import BlockMatrix\n",
    "\n",
    "\n",
    "def create_block_matrix_from_numpy(\n",
    "    np_array: np.ndarray,\n",
    "    row_block_count: int,\n",
    "    col_block_count: int,\n",
    "    sc\n",
    "    ):\n",
    "    \"\"\"\n",
    "    Create a BlockMatrix from a NumPy array.\n",
    "    \n",
    "    Args:\n",
    "        np_array (np.ndarray): NumPy array to be converted\n",
    "        row_block_count (int): Number of rows in each block\n",
    "        col_block_count (int): Number of columns in each block\n",
    "        sc: SparkContext for parallelization\n",
    "        \n",
    "    Returns:\n",
    "        BlockMatrix: Distributed block matrix representation of input array\n",
    "    \"\"\"\n",
    "    num_rows: int = 0\n",
    "    num_cols: int = 0\n",
    "    blocks: list = []\n",
    "    blocks_rdd: pyspark.RDD = None\n",
    "    block_dense_matrix: Matrices.dense = None\n",
    "    \n",
    "    num_rows, num_cols = np_array.shape\n",
    "\n",
    "    for j in range(0, num_cols, col_block_count):\n",
    "        for i in range(0, num_rows, row_block_count):\n",
    "            block = np_array[i:i + row_block_count, j:j + col_block_count]\n",
    "            block_dense_matrix = Matrices.dense(block.shape[0], block.shape[1], block.T.flatten())\n",
    "            blocks.append(((i // row_block_count, j // col_block_count), block_dense_matrix))\n",
    "\n",
    "    blocks_rdd = sc.parallelize(blocks)\n",
    "    \n",
    "    return BlockMatrix(blocks_rdd, row_block_count, col_block_count)\n",
    "    \n",
    "def svd(\n",
    "    gram_mat: pyspark.mllib.linalg.distributed.BlockMatrix,\n",
    "    row_block_count: int,\n",
    "    col_block_count: int,\n",
    "    sc\n",
    "    ):\n",
    "    \"\"\"\n",
    "    Perform Singular Value Decomposition (SVD) on a Gramian matrix.\n",
    "    \n",
    "    Args:\n",
    "        gram_mat (BlockMatrix): The input Gramian matrix.\n",
    "        row_block_count (int): Number of rows in each block\n",
    "        col_block_count (int): Number of columns in each block\n",
    "    \n",
    "    Returns:\n",
    "        tuple[BlockMatrix, BlockMatrix, BlockMatrix]: The U, Sigma-inverse, and V^T matrices as BlockMatrices.\n",
    "    \"\"\"\n",
    "    matrix_size: int = 0\n",
    "    tol: float = 0.0\n",
    "    arr: np.ndarray = None\n",
    "    eigval_V: np.ndarray = None\n",
    "    eigvecs: np.ndarray = None\n",
    "    idx: np.ndarray = None\n",
    "    eigvals_inv: np.ndarray = None\n",
    "    block_s_inv: BlockMatrix = None\n",
    "    block_v: BlockMatrix = None\n",
    "    \n",
    "    tol = 1e-15\n",
    "\n",
    "    # Compute and sort eigenvalues and eigenvectors with a numpy Array.\n",
    "    arr = gram_mat.toLocalMatrix().toArray()\n",
    "    eigval_V, eigvecs = np.linalg.eigh(arr)\n",
    "    idx = eigval_V.argsort()[::-1]\n",
    "    eigval_V = eigval_V[idx]\n",
    "    eigvecs = eigvecs[:, idx]\n",
    "\n",
    "    # Invert eigenvalues (set small ones to zero) and form a diagonal matrix.\n",
    "    eigvals_inv = np.array([1/val if val > tol else 0 for val in eigval_V])\n",
    "    eigvals_inv = np.diag(eigvals_inv)\n",
    "    \n",
    "    # Convert results to block matrices for Spark and transpose the eigenvectors.\n",
    "    block_s_inv = create_block_matrix_from_numpy(eigvals_inv, int(math.ceil(eigvals_inv.shape[0]/n_workers)), int(math.ceil(eigvals_inv.shape[1]/n_workers)), sc)\n",
    "\n",
    "    block_v = create_block_matrix_from_numpy(eigvecs, int(math.ceil(eigvecs.shape[0]/n_workers)), int(math.ceil(eigvecs.shape[1]/n_workers)), sc)\n",
    "    \n",
    "    return block_v.multiply(block_s_inv).multiply(block_v.transpose())\n",
    "\n",
    "def betacalc(\n",
    "    X: pyspark.mllib.linalg.distributed.BlockMatrix,\n",
    "    Y: pyspark.mllib.linalg.distributed.BlockMatrix,\n",
    "    row_block_count: int,\n",
    "    col_block_count: int,\n",
    "    sc\n",
    "    ):\n",
    "    \"\"\"\n",
    "    Calculate the beta values for the input matrices X and Y.\n",
    "    \n",
    "    Args:\n",
    "        X (BlockMatrix): The input feature matrix.\n",
    "        Y (BlockMatrix): The target values matrix.\n",
    "        row_block_count (int): Number of rows in each block\n",
    "        col_block_count (int): Number of columns in each block\n",
    "    \n",
    "    Returns:\n",
    "        np.ndarray: The computed beta values.\n",
    "    \"\"\"\n",
    "    XtX: BlockMatrix = None\n",
    "    XtX_inv: BlockMatrix = None\n",
    "    beta: BlockMatrix = None\n",
    "\n",
    "    # Compute gram-matrix\n",
    "    XtX = X.transpose().multiply(X)\n",
    "\n",
    "    # Invert XtX using SVD.\n",
    "    XtX_inv = svd(XtX, row_block_count, col_block_count, sc)\n",
    "\n",
    "    # Compute and return betas\n",
    "    beta = XtX_inv.multiply(X.transpose()).multiply(Y)\n",
    "    return beta\n",
    "\n",
    "def lm_values(\n",
    "    X: pyspark.mllib.linalg.distributed.BlockMatrix,\n",
    "    Y: pyspark.mllib.linalg.distributed.BlockMatrix,\n",
    "    row_block_count: int,\n",
    "    col_block_count: int,\n",
    "    sc\n",
    "):\n",
    "    \"\"\"\n",
    "    Compute comprehensive linear model statistics.\n",
    "    Returns a flat dictionary of statistics.\n",
    "    \n",
    "    Args:  \n",
    "        X (BlockMatrix): The input feature matrix.\n",
    "        Y (BlockMatrix): The target values matrix.\n",
    "        row_block_count (int): Number of rows in each block\n",
    "        col_block_count (int): Number of columns in each block\n",
    "    Returns:\n",
    "        Dict: OLS statistics\n",
    "    \"\"\"\n",
    "    \n",
    "    # Calculate beta and convert to local\n",
    "    beta = betacalc(X, Y, row_block_count, col_block_count, sc)\n",
    "    fitted_values = X.multiply(beta)\n",
    "    residuals = Y.subtract(fitted_values)\n",
    "    \n",
    "    fitted_local = fitted_values.toLocalMatrix().toArray()\n",
    "    residuals_local = residuals.toLocalMatrix().toArray()\n",
    "     beta_local = beta.toLocalMatrix().toArray()\n",
    "\n",
    "    # Residual quartiles\n",
    "    min_residuals = np.min(residuals_local)\n",
    "    q1_residuals = np.percentile(residuals_local, 25)\n",
    "    median_residuals = np.median(residuals_local)\n",
    "    q3_residuals = np.percentile(residuals_local, 75)\n",
    "    max_residuals = np.max(residuals_local)\n",
    "    \n",
    "    # Get local matrices for calculations\n",
    "    X_local = X.toLocalMatrix().toArray()\n",
    "    Y_local = Y.toLocalMatrix().toArray()\n",
    "    \n",
    "    # Basic dimensions\n",
    "    n = X.numRows()\n",
    "    p = X.numCols()\n",
    "    degrees_of_freedom = n - p\n",
    "    \n",
    "    # Residual statistics\n",
    "    rss = np.sum(residuals_local ** 2)  # Residual sum of squares\n",
    "    mse = rss / degrees_of_freedom\n",
    "    rmse = np.sqrt(mse)\n",
    "    \n",
    "    # Calculate XtX and its inverse for standard errors\n",
    "    XtX = X.transpose().multiply(X)\n",
    "    XtX_local = XtX.toLocalMatrix().toArray()\n",
    "    XtX_inv = np.linalg.inv(XtX_local)\n",
    "    \n",
    "    # Standard errors and t-values\n",
    "    beta_std_errors = np.sqrt(np.diag(XtX_inv) * mse)\n",
    "    t_values = beta_local.flatten() / beta_std_errors\n",
    "    \n",
    "    # R-squared statistics\n",
    "    y_mean = np.mean(Y_local)\n",
    "    tss = np.sum((Y_local - y_mean) ** 2)  # Total sum of squares\n",
    "    r_squared = 1 - (rss / tss)\n",
    "    adj_r_squared = 1 - (1 - r_squared) * ((n - 1) / degrees_of_freedom)\n",
    "    \n",
    "    # F-statistic\n",
    "    model_ss = tss - rss\n",
    "    f_statistic = (model_ss / (p - 1)) / mse\n",
    "    \n",
    "    # Information criteria\n",
    "    aic = n * np.log(rss / n) + 2 * p\n",
    "    bic = n * np.log(rss / n) + p * np.log(n)\n",
    "    \n",
    "    # save all statistics in Dict\n",
    "    statistics = {\n",
    "        'betas': beta_local.flatten(),\n",
    "        'beta_std_errors': beta_std_errors,\n",
    "        't_values': t_values,\n",
    "        'residuals': residuals_local.flatten(),\n",
    "        'fitted_values': fitted_local.flatten(),\n",
    "        'min_residuals': min_residuals,\n",
    "        'q1_residuals': q1_residuals,\n",
    "        'median_residuals': median_residuals,\n",
    "        'q3_residuals': q3_residuals,\n",
    "        'max_residuals': max_residuals,\n",
    "        'n_observations': n,\n",
    "        'n_parameters': p,\n",
    "        'degrees_of_freedom': degrees_of_freedom,\n",
    "        'mse': mse,\n",
    "        'rmse': rmse,\n",
    "        'r_squared': r_squared,\n",
    "        'adj_r_squared': adj_r_squared,\n",
    "        'f_statistic': f_statistic,\n",
    "        'aic': aic,\n",
    "        'bic': bic,\n",
    "        'residual_sum_squares': rss,\n",
    "        'total_sum_squares': tss,\n",
    "        'sigma': np.sqrt(mse)\n",
    "    }\n",
    "    \n",
    "    return statistics"
   ]
  },
  {
   "cell_type": "code",
   "execution_count": 125,
   "id": "ee1d2904-5d35-4eee-b2da-3b690d4cf183",
   "metadata": {},
   "outputs": [
    {
     "name": "stderr",
     "output_type": "stream",
     "text": [
      "                                                                                \r"
     ]
    },
    {
     "name": "stdout",
     "output_type": "stream",
     "text": [
      "Betas:  [0.15946502 0.18076923 0.22055094 0.18554737 0.18971802]\n",
      "beta_std_errors:  [0.02770009 0.0277263  0.02799291 0.02831136 0.02854006]\n",
      "t_values:  [5.75684073 6.51977388 7.87881539 6.55381336 6.64742871]\n"
     ]
    },
    {
     "name": "stderr",
     "output_type": "stream",
     "text": [
      "                                                                                \r"
     ]
    },
    {
     "name": "stdout",
     "output_type": "stream",
     "text": [
      "Betas:  [0.15946502 0.18076923 0.22055094 0.18554737 0.18971802]\n",
      "beta_std_errors:  [0.02770009 0.0277263  0.02799291 0.02831136 0.02854006]\n",
      "t_values:  [5.75684073 6.51977388 7.87881539 6.55381336 6.64742871]\n"
     ]
    },
    {
     "name": "stderr",
     "output_type": "stream",
     "text": [
      "                                                                                \r"
     ]
    },
    {
     "name": "stdout",
     "output_type": "stream",
     "text": [
      "Betas:  [0.15946502 0.18076923 0.22055094 0.18554737 0.18971802]\n",
      "beta_std_errors:  [0.02770009 0.0277263  0.02799291 0.02831136 0.02854006]\n",
      "t_values:  [5.75684073 6.51977388 7.87881539 6.55381336 6.64742871]\n"
     ]
    },
    {
     "name": "stderr",
     "output_type": "stream",
     "text": [
      "                                                                                \r"
     ]
    },
    {
     "name": "stdout",
     "output_type": "stream",
     "text": [
      "Betas:  [0.15946502 0.18076923 0.22055094 0.18554737 0.18971802]\n",
      "beta_std_errors:  [0.02770009 0.0277263  0.02799291 0.02831136 0.02854006]\n",
      "t_values:  [5.75684073 6.51977388 7.87881539 6.55381336 6.64742871]\n"
     ]
    },
    {
     "name": "stderr",
     "output_type": "stream",
     "text": [
      "                                                                                \r"
     ]
    },
    {
     "name": "stdout",
     "output_type": "stream",
     "text": [
      "Betas:  [0.15946502 0.18076923 0.22055094 0.18554737 0.18971802]\n",
      "beta_std_errors:  [0.02770009 0.0277263  0.02799291 0.02831136 0.02854006]\n",
      "t_values:  [5.75684073 6.51977388 7.87881539 6.55381336 6.64742871]\n"
     ]
    },
    {
     "name": "stderr",
     "output_type": "stream",
     "text": [
      "                                                                                \r"
     ]
    },
    {
     "name": "stdout",
     "output_type": "stream",
     "text": [
      "Betas:  [0.15946502 0.18076923 0.22055094 0.18554737 0.18971802]\n",
      "beta_std_errors:  [0.02770009 0.0277263  0.02799291 0.02831136 0.02854006]\n",
      "t_values:  [5.75684073 6.51977388 7.87881539 6.55381336 6.64742871]\n"
     ]
    },
    {
     "name": "stderr",
     "output_type": "stream",
     "text": [
      "                                                                                \r"
     ]
    },
    {
     "name": "stdout",
     "output_type": "stream",
     "text": [
      "Betas:  [0.15946502 0.18076923 0.22055094 0.18554737 0.18971802]\n",
      "beta_std_errors:  [0.02770009 0.0277263  0.02799291 0.02831136 0.02854006]\n",
      "t_values:  [5.75684073 6.51977388 7.87881539 6.55381336 6.64742871]\n"
     ]
    },
    {
     "name": "stderr",
     "output_type": "stream",
     "text": [
      "                                                                                \r"
     ]
    },
    {
     "name": "stdout",
     "output_type": "stream",
     "text": [
      "Betas:  [0.15946502 0.18076923 0.22055094 0.18554737 0.18971802]\n",
      "beta_std_errors:  [0.02770009 0.0277263  0.02799291 0.02831136 0.02854006]\n",
      "t_values:  [5.75684073 6.51977388 7.87881539 6.55381336 6.64742871]\n"
     ]
    },
    {
     "name": "stderr",
     "output_type": "stream",
     "text": [
      "                                                                                \r"
     ]
    },
    {
     "name": "stdout",
     "output_type": "stream",
     "text": [
      "Betas:  [0.15946502 0.18076923 0.22055094 0.18554737 0.18971802]\n",
      "beta_std_errors:  [0.02770009 0.0277263  0.02799291 0.02831136 0.02854006]\n",
      "t_values:  [5.75684073 6.51977388 7.87881539 6.55381336 6.64742871]\n"
     ]
    },
    {
     "name": "stderr",
     "output_type": "stream",
     "text": [
      "                                                                                \r"
     ]
    },
    {
     "name": "stdout",
     "output_type": "stream",
     "text": [
      "Betas:  [0.15946502 0.18076923 0.22055094 0.18554737 0.18971802]\n",
      "beta_std_errors:  [0.02770009 0.0277263  0.02799291 0.02831136 0.02854006]\n",
      "t_values:  [5.75684073 6.51977388 7.87881539 6.55381336 6.64742871]\n",
      "Features: 5, Gesamtzeit: 103.99097 Sekunden\n",
      "Features: 5, durchschnittliche Zeit: 10.39910 Sekunden\n",
      "Features: 5, durchschnittliche Zeit pro feature: 2.07982 Sekunden\n"
     ]
    },
    {
     "name": "stderr",
     "output_type": "stream",
     "text": [
      "                                                                                \r"
     ]
    },
    {
     "name": "stdout",
     "output_type": "stream",
     "text": [
      "Betas:  [0.1185726  0.10960358 0.11822258 0.05461051 0.07793368 0.09759982\n",
      " 0.074419   0.14592134 0.08439453 0.08883046]\n",
      "beta_std_errors:  [0.02897766 0.02866761 0.02836084 0.02935021 0.02859273 0.02881214\n",
      " 0.02904236 0.02861707 0.02939696 0.02925685]\n",
      "t_values:  [4.09186271 3.82325418 4.16851511 1.86065106 2.72564655 3.38745478\n",
      " 2.56242946 5.09910067 2.8708591  3.03622785]\n"
     ]
    },
    {
     "name": "stderr",
     "output_type": "stream",
     "text": [
      "                                                                                \r"
     ]
    },
    {
     "name": "stdout",
     "output_type": "stream",
     "text": [
      "Betas:  [0.1185726  0.10960358 0.11822258 0.05461051 0.07793368 0.09759982\n",
      " 0.074419   0.14592134 0.08439453 0.08883046]\n",
      "beta_std_errors:  [0.02897766 0.02866761 0.02836084 0.02935021 0.02859273 0.02881214\n",
      " 0.02904236 0.02861707 0.02939696 0.02925685]\n",
      "t_values:  [4.09186271 3.82325418 4.16851511 1.86065106 2.72564655 3.38745478\n",
      " 2.56242946 5.09910067 2.8708591  3.03622785]\n"
     ]
    },
    {
     "name": "stderr",
     "output_type": "stream",
     "text": [
      "                                                                                \r"
     ]
    },
    {
     "name": "stdout",
     "output_type": "stream",
     "text": [
      "Betas:  [0.1185726  0.10960358 0.11822258 0.05461051 0.07793368 0.09759982\n",
      " 0.074419   0.14592134 0.08439453 0.08883046]\n",
      "beta_std_errors:  [0.02897766 0.02866761 0.02836084 0.02935021 0.02859273 0.02881214\n",
      " 0.02904236 0.02861707 0.02939696 0.02925685]\n",
      "t_values:  [4.09186271 3.82325418 4.16851511 1.86065106 2.72564655 3.38745478\n",
      " 2.56242946 5.09910067 2.8708591  3.03622785]\n"
     ]
    },
    {
     "name": "stderr",
     "output_type": "stream",
     "text": [
      "                                                                                \r"
     ]
    },
    {
     "name": "stdout",
     "output_type": "stream",
     "text": [
      "Betas:  [0.1185726  0.10960358 0.11822258 0.05461051 0.07793368 0.09759982\n",
      " 0.074419   0.14592134 0.08439453 0.08883046]\n",
      "beta_std_errors:  [0.02897766 0.02866761 0.02836084 0.02935021 0.02859273 0.02881214\n",
      " 0.02904236 0.02861707 0.02939696 0.02925685]\n",
      "t_values:  [4.09186271 3.82325418 4.16851511 1.86065106 2.72564655 3.38745478\n",
      " 2.56242946 5.09910067 2.8708591  3.03622785]\n"
     ]
    },
    {
     "name": "stderr",
     "output_type": "stream",
     "text": [
      "                                                                                \r"
     ]
    },
    {
     "name": "stdout",
     "output_type": "stream",
     "text": [
      "Betas:  [0.1185726  0.10960358 0.11822258 0.05461051 0.07793368 0.09759982\n",
      " 0.074419   0.14592134 0.08439453 0.08883046]\n",
      "beta_std_errors:  [0.02897766 0.02866761 0.02836084 0.02935021 0.02859273 0.02881214\n",
      " 0.02904236 0.02861707 0.02939696 0.02925685]\n",
      "t_values:  [4.09186271 3.82325418 4.16851511 1.86065106 2.72564655 3.38745478\n",
      " 2.56242946 5.09910067 2.8708591  3.03622785]\n"
     ]
    },
    {
     "name": "stderr",
     "output_type": "stream",
     "text": [
      "                                                                                \r"
     ]
    },
    {
     "name": "stdout",
     "output_type": "stream",
     "text": [
      "Betas:  [0.1185726  0.10960358 0.11822258 0.05461051 0.07793368 0.09759982\n",
      " 0.074419   0.14592134 0.08439453 0.08883046]\n",
      "beta_std_errors:  [0.02897766 0.02866761 0.02836084 0.02935021 0.02859273 0.02881214\n",
      " 0.02904236 0.02861707 0.02939696 0.02925685]\n",
      "t_values:  [4.09186271 3.82325418 4.16851511 1.86065106 2.72564655 3.38745478\n",
      " 2.56242946 5.09910067 2.8708591  3.03622785]\n"
     ]
    },
    {
     "name": "stderr",
     "output_type": "stream",
     "text": [
      "                                                                                \r"
     ]
    },
    {
     "name": "stdout",
     "output_type": "stream",
     "text": [
      "Betas:  [0.1185726  0.10960358 0.11822258 0.05461051 0.07793368 0.09759982\n",
      " 0.074419   0.14592134 0.08439453 0.08883046]\n",
      "beta_std_errors:  [0.02897766 0.02866761 0.02836084 0.02935021 0.02859273 0.02881214\n",
      " 0.02904236 0.02861707 0.02939696 0.02925685]\n",
      "t_values:  [4.09186271 3.82325418 4.16851511 1.86065106 2.72564655 3.38745478\n",
      " 2.56242946 5.09910067 2.8708591  3.03622785]\n"
     ]
    },
    {
     "name": "stderr",
     "output_type": "stream",
     "text": [
      "                                                                                \r"
     ]
    },
    {
     "name": "stdout",
     "output_type": "stream",
     "text": [
      "Betas:  [0.1185726  0.10960358 0.11822258 0.05461051 0.07793368 0.09759982\n",
      " 0.074419   0.14592134 0.08439453 0.08883046]\n",
      "beta_std_errors:  [0.02897766 0.02866761 0.02836084 0.02935021 0.02859273 0.02881214\n",
      " 0.02904236 0.02861707 0.02939696 0.02925685]\n",
      "t_values:  [4.09186271 3.82325418 4.16851511 1.86065106 2.72564655 3.38745478\n",
      " 2.56242946 5.09910067 2.8708591  3.03622785]\n"
     ]
    },
    {
     "name": "stderr",
     "output_type": "stream",
     "text": [
      "                                                                                \r"
     ]
    },
    {
     "name": "stdout",
     "output_type": "stream",
     "text": [
      "Betas:  [0.1185726  0.10960358 0.11822258 0.05461051 0.07793368 0.09759982\n",
      " 0.074419   0.14592134 0.08439453 0.08883046]\n",
      "beta_std_errors:  [0.02897766 0.02866761 0.02836084 0.02935021 0.02859273 0.02881214\n",
      " 0.02904236 0.02861707 0.02939696 0.02925685]\n",
      "t_values:  [4.09186271 3.82325418 4.16851511 1.86065106 2.72564655 3.38745478\n",
      " 2.56242946 5.09910067 2.8708591  3.03622785]\n"
     ]
    },
    {
     "name": "stderr",
     "output_type": "stream",
     "text": [
      "                                                                                \r"
     ]
    },
    {
     "name": "stdout",
     "output_type": "stream",
     "text": [
      "Betas:  [0.1185726  0.10960358 0.11822258 0.05461051 0.07793368 0.09759982\n",
      " 0.074419   0.14592134 0.08439453 0.08883046]\n",
      "beta_std_errors:  [0.02897766 0.02866761 0.02836084 0.02935021 0.02859273 0.02881214\n",
      " 0.02904236 0.02861707 0.02939696 0.02925685]\n",
      "t_values:  [4.09186271 3.82325418 4.16851511 1.86065106 2.72564655 3.38745478\n",
      " 2.56242946 5.09910067 2.8708591  3.03622785]\n",
      "Features: 10, Gesamtzeit: 91.42569 Sekunden\n",
      "Features: 10, durchschnittliche Zeit: 9.14257 Sekunden\n",
      "Features: 10, durchschnittliche Zeit pro feature: 0.91426 Sekunden\n"
     ]
    },
    {
     "name": "stderr",
     "output_type": "stream",
     "text": [
      "                                                                                \r"
     ]
    },
    {
     "name": "stdout",
     "output_type": "stream",
     "text": [
      "Betas:  [ 0.0283228   0.03347126  0.04102853  0.00033086  0.04094     0.04572401\n",
      "  0.05915546  0.1134863   0.01189002  0.10303733  0.0381637   0.05781436\n",
      "  0.02331125  0.07467574  0.10858555  0.09966531 -0.01285215  0.04641823\n",
      "  0.03117183  0.04110408]\n",
      "beta_std_errors:  [0.02884237 0.02873575 0.02883733 0.02949221 0.02886377 0.02837784\n",
      " 0.0286025  0.02817846 0.0300101  0.02909865 0.02850943 0.02797662\n",
      " 0.02851659 0.02941303 0.02925349 0.02883049 0.02920763 0.02850659\n",
      " 0.02868078 0.02880242]\n",
      "t_values:  [ 0.98198587  1.16479516  1.42275779  0.01121872  1.41838726  1.6112577\n",
      "  2.06819188  4.0274127   0.39620047  3.5409653   1.33863438  2.06652422\n",
      "  0.81746267  2.53886572  3.71188351  3.45694067 -0.4400271   1.62833357\n",
      "  1.08685432  1.42710501]\n"
     ]
    },
    {
     "name": "stderr",
     "output_type": "stream",
     "text": [
      "                                                                                \r"
     ]
    },
    {
     "name": "stdout",
     "output_type": "stream",
     "text": [
      "Betas:  [ 0.0283228   0.03347126  0.04102853  0.00033086  0.04094     0.04572401\n",
      "  0.05915546  0.1134863   0.01189002  0.10303733  0.0381637   0.05781436\n",
      "  0.02331125  0.07467574  0.10858555  0.09966531 -0.01285215  0.04641823\n",
      "  0.03117183  0.04110408]\n",
      "beta_std_errors:  [0.02884237 0.02873575 0.02883733 0.02949221 0.02886377 0.02837784\n",
      " 0.0286025  0.02817846 0.0300101  0.02909865 0.02850943 0.02797662\n",
      " 0.02851659 0.02941303 0.02925349 0.02883049 0.02920763 0.02850659\n",
      " 0.02868078 0.02880242]\n",
      "t_values:  [ 0.98198587  1.16479516  1.42275779  0.01121872  1.41838726  1.6112577\n",
      "  2.06819188  4.0274127   0.39620047  3.5409653   1.33863438  2.06652422\n",
      "  0.81746267  2.53886572  3.71188351  3.45694067 -0.4400271   1.62833357\n",
      "  1.08685432  1.42710501]\n"
     ]
    },
    {
     "name": "stderr",
     "output_type": "stream",
     "text": [
      "                                                                                \r"
     ]
    },
    {
     "name": "stdout",
     "output_type": "stream",
     "text": [
      "Betas:  [ 0.0283228   0.03347126  0.04102853  0.00033086  0.04094     0.04572401\n",
      "  0.05915546  0.1134863   0.01189002  0.10303733  0.0381637   0.05781436\n",
      "  0.02331125  0.07467574  0.10858555  0.09966531 -0.01285215  0.04641823\n",
      "  0.03117183  0.04110408]\n",
      "beta_std_errors:  [0.02884237 0.02873575 0.02883733 0.02949221 0.02886377 0.02837784\n",
      " 0.0286025  0.02817846 0.0300101  0.02909865 0.02850943 0.02797662\n",
      " 0.02851659 0.02941303 0.02925349 0.02883049 0.02920763 0.02850659\n",
      " 0.02868078 0.02880242]\n",
      "t_values:  [ 0.98198587  1.16479516  1.42275779  0.01121872  1.41838726  1.6112577\n",
      "  2.06819188  4.0274127   0.39620047  3.5409653   1.33863438  2.06652422\n",
      "  0.81746267  2.53886572  3.71188351  3.45694067 -0.4400271   1.62833357\n",
      "  1.08685432  1.42710501]\n"
     ]
    },
    {
     "name": "stderr",
     "output_type": "stream",
     "text": [
      "                                                                                \r"
     ]
    },
    {
     "name": "stdout",
     "output_type": "stream",
     "text": [
      "Betas:  [ 0.0283228   0.03347126  0.04102853  0.00033086  0.04094     0.04572401\n",
      "  0.05915546  0.1134863   0.01189002  0.10303733  0.0381637   0.05781436\n",
      "  0.02331125  0.07467574  0.10858555  0.09966531 -0.01285215  0.04641823\n",
      "  0.03117183  0.04110408]\n",
      "beta_std_errors:  [0.02884237 0.02873575 0.02883733 0.02949221 0.02886377 0.02837784\n",
      " 0.0286025  0.02817846 0.0300101  0.02909865 0.02850943 0.02797662\n",
      " 0.02851659 0.02941303 0.02925349 0.02883049 0.02920763 0.02850659\n",
      " 0.02868078 0.02880242]\n",
      "t_values:  [ 0.98198587  1.16479516  1.42275779  0.01121872  1.41838726  1.6112577\n",
      "  2.06819188  4.0274127   0.39620047  3.5409653   1.33863438  2.06652422\n",
      "  0.81746267  2.53886572  3.71188351  3.45694067 -0.4400271   1.62833357\n",
      "  1.08685432  1.42710501]\n"
     ]
    },
    {
     "name": "stderr",
     "output_type": "stream",
     "text": [
      "                                                                                \r"
     ]
    },
    {
     "name": "stdout",
     "output_type": "stream",
     "text": [
      "Betas:  [ 0.0283228   0.03347126  0.04102853  0.00033086  0.04094     0.04572401\n",
      "  0.05915546  0.1134863   0.01189002  0.10303733  0.0381637   0.05781436\n",
      "  0.02331125  0.07467574  0.10858555  0.09966531 -0.01285215  0.04641823\n",
      "  0.03117183  0.04110408]\n",
      "beta_std_errors:  [0.02884237 0.02873575 0.02883733 0.02949221 0.02886377 0.02837784\n",
      " 0.0286025  0.02817846 0.0300101  0.02909865 0.02850943 0.02797662\n",
      " 0.02851659 0.02941303 0.02925349 0.02883049 0.02920763 0.02850659\n",
      " 0.02868078 0.02880242]\n",
      "t_values:  [ 0.98198587  1.16479516  1.42275779  0.01121872  1.41838726  1.6112577\n",
      "  2.06819188  4.0274127   0.39620047  3.5409653   1.33863438  2.06652422\n",
      "  0.81746267  2.53886572  3.71188351  3.45694067 -0.4400271   1.62833357\n",
      "  1.08685432  1.42710501]\n"
     ]
    },
    {
     "name": "stderr",
     "output_type": "stream",
     "text": [
      "                                                                                \r"
     ]
    },
    {
     "name": "stdout",
     "output_type": "stream",
     "text": [
      "Betas:  [ 0.0283228   0.03347126  0.04102853  0.00033086  0.04094     0.04572401\n",
      "  0.05915546  0.1134863   0.01189002  0.10303733  0.0381637   0.05781436\n",
      "  0.02331125  0.07467574  0.10858555  0.09966531 -0.01285215  0.04641823\n",
      "  0.03117183  0.04110408]\n",
      "beta_std_errors:  [0.02884237 0.02873575 0.02883733 0.02949221 0.02886377 0.02837784\n",
      " 0.0286025  0.02817846 0.0300101  0.02909865 0.02850943 0.02797662\n",
      " 0.02851659 0.02941303 0.02925349 0.02883049 0.02920763 0.02850659\n",
      " 0.02868078 0.02880242]\n",
      "t_values:  [ 0.98198587  1.16479516  1.42275779  0.01121872  1.41838726  1.6112577\n",
      "  2.06819188  4.0274127   0.39620047  3.5409653   1.33863438  2.06652422\n",
      "  0.81746267  2.53886572  3.71188351  3.45694067 -0.4400271   1.62833357\n",
      "  1.08685432  1.42710501]\n"
     ]
    },
    {
     "name": "stderr",
     "output_type": "stream",
     "text": [
      "                                                                                \r"
     ]
    },
    {
     "name": "stdout",
     "output_type": "stream",
     "text": [
      "Betas:  [ 0.0283228   0.03347126  0.04102853  0.00033086  0.04094     0.04572401\n",
      "  0.05915546  0.1134863   0.01189002  0.10303733  0.0381637   0.05781436\n",
      "  0.02331125  0.07467574  0.10858555  0.09966531 -0.01285215  0.04641823\n",
      "  0.03117183  0.04110408]\n",
      "beta_std_errors:  [0.02884237 0.02873575 0.02883733 0.02949221 0.02886377 0.02837784\n",
      " 0.0286025  0.02817846 0.0300101  0.02909865 0.02850943 0.02797662\n",
      " 0.02851659 0.02941303 0.02925349 0.02883049 0.02920763 0.02850659\n",
      " 0.02868078 0.02880242]\n",
      "t_values:  [ 0.98198587  1.16479516  1.42275779  0.01121872  1.41838726  1.6112577\n",
      "  2.06819188  4.0274127   0.39620047  3.5409653   1.33863438  2.06652422\n",
      "  0.81746267  2.53886572  3.71188351  3.45694067 -0.4400271   1.62833357\n",
      "  1.08685432  1.42710501]\n"
     ]
    },
    {
     "name": "stderr",
     "output_type": "stream",
     "text": [
      "                                                                                \r"
     ]
    },
    {
     "name": "stdout",
     "output_type": "stream",
     "text": [
      "Betas:  [ 0.0283228   0.03347126  0.04102853  0.00033086  0.04094     0.04572401\n",
      "  0.05915546  0.1134863   0.01189002  0.10303733  0.0381637   0.05781436\n",
      "  0.02331125  0.07467574  0.10858555  0.09966531 -0.01285215  0.04641823\n",
      "  0.03117183  0.04110408]\n",
      "beta_std_errors:  [0.02884237 0.02873575 0.02883733 0.02949221 0.02886377 0.02837784\n",
      " 0.0286025  0.02817846 0.0300101  0.02909865 0.02850943 0.02797662\n",
      " 0.02851659 0.02941303 0.02925349 0.02883049 0.02920763 0.02850659\n",
      " 0.02868078 0.02880242]\n",
      "t_values:  [ 0.98198587  1.16479516  1.42275779  0.01121872  1.41838726  1.6112577\n",
      "  2.06819188  4.0274127   0.39620047  3.5409653   1.33863438  2.06652422\n",
      "  0.81746267  2.53886572  3.71188351  3.45694067 -0.4400271   1.62833357\n",
      "  1.08685432  1.42710501]\n"
     ]
    },
    {
     "name": "stderr",
     "output_type": "stream",
     "text": [
      "                                                                                \r"
     ]
    },
    {
     "name": "stdout",
     "output_type": "stream",
     "text": [
      "Betas:  [ 0.0283228   0.03347126  0.04102853  0.00033086  0.04094     0.04572401\n",
      "  0.05915546  0.1134863   0.01189002  0.10303733  0.0381637   0.05781436\n",
      "  0.02331125  0.07467574  0.10858555  0.09966531 -0.01285215  0.04641823\n",
      "  0.03117183  0.04110408]\n",
      "beta_std_errors:  [0.02884237 0.02873575 0.02883733 0.02949221 0.02886377 0.02837784\n",
      " 0.0286025  0.02817846 0.0300101  0.02909865 0.02850943 0.02797662\n",
      " 0.02851659 0.02941303 0.02925349 0.02883049 0.02920763 0.02850659\n",
      " 0.02868078 0.02880242]\n",
      "t_values:  [ 0.98198587  1.16479516  1.42275779  0.01121872  1.41838726  1.6112577\n",
      "  2.06819188  4.0274127   0.39620047  3.5409653   1.33863438  2.06652422\n",
      "  0.81746267  2.53886572  3.71188351  3.45694067 -0.4400271   1.62833357\n",
      "  1.08685432  1.42710501]\n"
     ]
    },
    {
     "name": "stderr",
     "output_type": "stream",
     "text": [
      "                                                                                \r"
     ]
    },
    {
     "name": "stdout",
     "output_type": "stream",
     "text": [
      "Betas:  [ 0.0283228   0.03347126  0.04102853  0.00033086  0.04094     0.04572401\n",
      "  0.05915546  0.1134863   0.01189002  0.10303733  0.0381637   0.05781436\n",
      "  0.02331125  0.07467574  0.10858555  0.09966531 -0.01285215  0.04641823\n",
      "  0.03117183  0.04110408]\n",
      "beta_std_errors:  [0.02884237 0.02873575 0.02883733 0.02949221 0.02886377 0.02837784\n",
      " 0.0286025  0.02817846 0.0300101  0.02909865 0.02850943 0.02797662\n",
      " 0.02851659 0.02941303 0.02925349 0.02883049 0.02920763 0.02850659\n",
      " 0.02868078 0.02880242]\n",
      "t_values:  [ 0.98198587  1.16479516  1.42275779  0.01121872  1.41838726  1.6112577\n",
      "  2.06819188  4.0274127   0.39620047  3.5409653   1.33863438  2.06652422\n",
      "  0.81746267  2.53886572  3.71188351  3.45694067 -0.4400271   1.62833357\n",
      "  1.08685432  1.42710501]\n",
      "Features: 20, Gesamtzeit: 88.78143 Sekunden\n",
      "Features: 20, durchschnittliche Zeit: 8.87814 Sekunden\n",
      "Features: 20, durchschnittliche Zeit pro feature: 0.44391 Sekunden\n"
     ]
    },
    {
     "name": "stderr",
     "output_type": "stream",
     "text": [
      "                                                                                \r"
     ]
    },
    {
     "name": "stdout",
     "output_type": "stream",
     "text": [
      "Betas:  [ 0.04299198  0.03096253 -0.00046098  0.01357594  0.00851669  0.05635201\n",
      "  0.02868846  0.02993525  0.02030634  0.06552096 -0.00663422  0.05189705\n",
      "  0.0161475   0.05602203  0.06274265  0.00734532  0.03943711  0.07461723\n",
      "  0.04106663  0.04862897  0.0456511   0.03499723  0.01768815 -0.00491548\n",
      "  0.0079015   0.0215588   0.06211121  0.06265519  0.04280562 -0.00137153]\n",
      "beta_std_errors:  [0.0292615  0.02952862 0.02966241 0.02967078 0.02952082 0.02922144\n",
      " 0.02999159 0.02869158 0.03034811 0.02911879 0.02996414 0.02881058\n",
      " 0.02981591 0.02934942 0.02923176 0.02938957 0.02972748 0.02905953\n",
      " 0.02964948 0.02940769 0.02950913 0.02905667 0.02966153 0.03019262\n",
      " 0.03071779 0.02915121 0.02960488 0.02992165 0.02976742 0.0297249 ]\n",
      "t_values:  [ 1.46923355  1.04856009 -0.01554076  0.45755241  0.28849768  1.92844722\n",
      "  0.95655009  1.04334612  0.66911372  2.25012695 -0.22140524  1.80131894\n",
      "  0.54157342  1.90879519  2.14638656  0.24992942  1.32662135  2.56773738\n",
      "  1.38507098  1.65361403  1.54701586  1.20444729  0.59633278 -0.16280389\n",
      "  0.2572287   0.73955096  2.09800564  2.09397526  1.43800215 -0.04614062]\n"
     ]
    },
    {
     "name": "stderr",
     "output_type": "stream",
     "text": [
      "                                                                                \r"
     ]
    },
    {
     "name": "stdout",
     "output_type": "stream",
     "text": [
      "Betas:  [ 0.04299198  0.03096253 -0.00046098  0.01357594  0.00851669  0.05635201\n",
      "  0.02868846  0.02993525  0.02030634  0.06552096 -0.00663422  0.05189705\n",
      "  0.0161475   0.05602203  0.06274265  0.00734532  0.03943711  0.07461723\n",
      "  0.04106663  0.04862897  0.0456511   0.03499723  0.01768815 -0.00491548\n",
      "  0.0079015   0.0215588   0.06211121  0.06265519  0.04280562 -0.00137153]\n",
      "beta_std_errors:  [0.0292615  0.02952862 0.02966241 0.02967078 0.02952082 0.02922144\n",
      " 0.02999159 0.02869158 0.03034811 0.02911879 0.02996414 0.02881058\n",
      " 0.02981591 0.02934942 0.02923176 0.02938957 0.02972748 0.02905953\n",
      " 0.02964948 0.02940769 0.02950913 0.02905667 0.02966153 0.03019262\n",
      " 0.03071779 0.02915121 0.02960488 0.02992165 0.02976742 0.0297249 ]\n",
      "t_values:  [ 1.46923355  1.04856009 -0.01554076  0.45755241  0.28849768  1.92844722\n",
      "  0.95655009  1.04334612  0.66911372  2.25012695 -0.22140524  1.80131894\n",
      "  0.54157342  1.90879519  2.14638656  0.24992942  1.32662135  2.56773738\n",
      "  1.38507098  1.65361403  1.54701586  1.20444729  0.59633278 -0.16280389\n",
      "  0.2572287   0.73955096  2.09800564  2.09397526  1.43800215 -0.04614062]\n"
     ]
    },
    {
     "name": "stderr",
     "output_type": "stream",
     "text": [
      "                                                                                \r"
     ]
    },
    {
     "name": "stdout",
     "output_type": "stream",
     "text": [
      "Betas:  [ 0.04299198  0.03096253 -0.00046098  0.01357594  0.00851669  0.05635201\n",
      "  0.02868846  0.02993525  0.02030634  0.06552096 -0.00663422  0.05189705\n",
      "  0.0161475   0.05602203  0.06274265  0.00734532  0.03943711  0.07461723\n",
      "  0.04106663  0.04862897  0.0456511   0.03499723  0.01768815 -0.00491548\n",
      "  0.0079015   0.0215588   0.06211121  0.06265519  0.04280562 -0.00137153]\n",
      "beta_std_errors:  [0.0292615  0.02952862 0.02966241 0.02967078 0.02952082 0.02922144\n",
      " 0.02999159 0.02869158 0.03034811 0.02911879 0.02996414 0.02881058\n",
      " 0.02981591 0.02934942 0.02923176 0.02938957 0.02972748 0.02905953\n",
      " 0.02964948 0.02940769 0.02950913 0.02905667 0.02966153 0.03019262\n",
      " 0.03071779 0.02915121 0.02960488 0.02992165 0.02976742 0.0297249 ]\n",
      "t_values:  [ 1.46923355  1.04856009 -0.01554076  0.45755241  0.28849768  1.92844722\n",
      "  0.95655009  1.04334612  0.66911372  2.25012695 -0.22140524  1.80131894\n",
      "  0.54157342  1.90879519  2.14638656  0.24992942  1.32662135  2.56773738\n",
      "  1.38507098  1.65361403  1.54701586  1.20444729  0.59633278 -0.16280389\n",
      "  0.2572287   0.73955096  2.09800564  2.09397526  1.43800215 -0.04614062]\n"
     ]
    },
    {
     "name": "stderr",
     "output_type": "stream",
     "text": [
      "                                                                                \r"
     ]
    },
    {
     "name": "stdout",
     "output_type": "stream",
     "text": [
      "Betas:  [ 0.04299198  0.03096253 -0.00046098  0.01357594  0.00851669  0.05635201\n",
      "  0.02868846  0.02993525  0.02030634  0.06552096 -0.00663422  0.05189705\n",
      "  0.0161475   0.05602203  0.06274265  0.00734532  0.03943711  0.07461723\n",
      "  0.04106663  0.04862897  0.0456511   0.03499723  0.01768815 -0.00491548\n",
      "  0.0079015   0.0215588   0.06211121  0.06265519  0.04280562 -0.00137153]\n",
      "beta_std_errors:  [0.0292615  0.02952862 0.02966241 0.02967078 0.02952082 0.02922144\n",
      " 0.02999159 0.02869158 0.03034811 0.02911879 0.02996414 0.02881058\n",
      " 0.02981591 0.02934942 0.02923176 0.02938957 0.02972748 0.02905953\n",
      " 0.02964948 0.02940769 0.02950913 0.02905667 0.02966153 0.03019262\n",
      " 0.03071779 0.02915121 0.02960488 0.02992165 0.02976742 0.0297249 ]\n",
      "t_values:  [ 1.46923355  1.04856009 -0.01554076  0.45755241  0.28849768  1.92844722\n",
      "  0.95655009  1.04334612  0.66911372  2.25012695 -0.22140524  1.80131894\n",
      "  0.54157342  1.90879519  2.14638656  0.24992942  1.32662135  2.56773738\n",
      "  1.38507098  1.65361403  1.54701586  1.20444729  0.59633278 -0.16280389\n",
      "  0.2572287   0.73955096  2.09800564  2.09397526  1.43800215 -0.04614062]\n"
     ]
    },
    {
     "name": "stderr",
     "output_type": "stream",
     "text": [
      "                                                                                \r"
     ]
    },
    {
     "name": "stdout",
     "output_type": "stream",
     "text": [
      "Betas:  [ 0.04299198  0.03096253 -0.00046098  0.01357594  0.00851669  0.05635201\n",
      "  0.02868846  0.02993525  0.02030634  0.06552096 -0.00663422  0.05189705\n",
      "  0.0161475   0.05602203  0.06274265  0.00734532  0.03943711  0.07461723\n",
      "  0.04106663  0.04862897  0.0456511   0.03499723  0.01768815 -0.00491548\n",
      "  0.0079015   0.0215588   0.06211121  0.06265519  0.04280562 -0.00137153]\n",
      "beta_std_errors:  [0.0292615  0.02952862 0.02966241 0.02967078 0.02952082 0.02922144\n",
      " 0.02999159 0.02869158 0.03034811 0.02911879 0.02996414 0.02881058\n",
      " 0.02981591 0.02934942 0.02923176 0.02938957 0.02972748 0.02905953\n",
      " 0.02964948 0.02940769 0.02950913 0.02905667 0.02966153 0.03019262\n",
      " 0.03071779 0.02915121 0.02960488 0.02992165 0.02976742 0.0297249 ]\n",
      "t_values:  [ 1.46923355  1.04856009 -0.01554076  0.45755241  0.28849768  1.92844722\n",
      "  0.95655009  1.04334612  0.66911372  2.25012695 -0.22140524  1.80131894\n",
      "  0.54157342  1.90879519  2.14638656  0.24992942  1.32662135  2.56773738\n",
      "  1.38507098  1.65361403  1.54701586  1.20444729  0.59633278 -0.16280389\n",
      "  0.2572287   0.73955096  2.09800564  2.09397526  1.43800215 -0.04614062]\n"
     ]
    },
    {
     "name": "stderr",
     "output_type": "stream",
     "text": [
      "                                                                                \r"
     ]
    },
    {
     "name": "stdout",
     "output_type": "stream",
     "text": [
      "Betas:  [ 0.04299198  0.03096253 -0.00046098  0.01357594  0.00851669  0.05635201\n",
      "  0.02868846  0.02993525  0.02030634  0.06552096 -0.00663422  0.05189705\n",
      "  0.0161475   0.05602203  0.06274265  0.00734532  0.03943711  0.07461723\n",
      "  0.04106663  0.04862897  0.0456511   0.03499723  0.01768815 -0.00491548\n",
      "  0.0079015   0.0215588   0.06211121  0.06265519  0.04280562 -0.00137153]\n",
      "beta_std_errors:  [0.0292615  0.02952862 0.02966241 0.02967078 0.02952082 0.02922144\n",
      " 0.02999159 0.02869158 0.03034811 0.02911879 0.02996414 0.02881058\n",
      " 0.02981591 0.02934942 0.02923176 0.02938957 0.02972748 0.02905953\n",
      " 0.02964948 0.02940769 0.02950913 0.02905667 0.02966153 0.03019262\n",
      " 0.03071779 0.02915121 0.02960488 0.02992165 0.02976742 0.0297249 ]\n",
      "t_values:  [ 1.46923355  1.04856009 -0.01554076  0.45755241  0.28849768  1.92844722\n",
      "  0.95655009  1.04334612  0.66911372  2.25012695 -0.22140524  1.80131894\n",
      "  0.54157342  1.90879519  2.14638656  0.24992942  1.32662135  2.56773738\n",
      "  1.38507098  1.65361403  1.54701586  1.20444729  0.59633278 -0.16280389\n",
      "  0.2572287   0.73955096  2.09800564  2.09397526  1.43800215 -0.04614062]\n"
     ]
    },
    {
     "name": "stderr",
     "output_type": "stream",
     "text": [
      "                                                                                \r"
     ]
    },
    {
     "name": "stdout",
     "output_type": "stream",
     "text": [
      "Betas:  [ 0.04299198  0.03096253 -0.00046098  0.01357594  0.00851669  0.05635201\n",
      "  0.02868846  0.02993525  0.02030634  0.06552096 -0.00663422  0.05189705\n",
      "  0.0161475   0.05602203  0.06274265  0.00734532  0.03943711  0.07461723\n",
      "  0.04106663  0.04862897  0.0456511   0.03499723  0.01768815 -0.00491548\n",
      "  0.0079015   0.0215588   0.06211121  0.06265519  0.04280562 -0.00137153]\n",
      "beta_std_errors:  [0.0292615  0.02952862 0.02966241 0.02967078 0.02952082 0.02922144\n",
      " 0.02999159 0.02869158 0.03034811 0.02911879 0.02996414 0.02881058\n",
      " 0.02981591 0.02934942 0.02923176 0.02938957 0.02972748 0.02905953\n",
      " 0.02964948 0.02940769 0.02950913 0.02905667 0.02966153 0.03019262\n",
      " 0.03071779 0.02915121 0.02960488 0.02992165 0.02976742 0.0297249 ]\n",
      "t_values:  [ 1.46923355  1.04856009 -0.01554076  0.45755241  0.28849768  1.92844722\n",
      "  0.95655009  1.04334612  0.66911372  2.25012695 -0.22140524  1.80131894\n",
      "  0.54157342  1.90879519  2.14638656  0.24992942  1.32662135  2.56773738\n",
      "  1.38507098  1.65361403  1.54701586  1.20444729  0.59633278 -0.16280389\n",
      "  0.2572287   0.73955096  2.09800564  2.09397526  1.43800215 -0.04614062]\n"
     ]
    },
    {
     "name": "stderr",
     "output_type": "stream",
     "text": [
      "                                                                                \r"
     ]
    },
    {
     "name": "stdout",
     "output_type": "stream",
     "text": [
      "Betas:  [ 0.04299198  0.03096253 -0.00046098  0.01357594  0.00851669  0.05635201\n",
      "  0.02868846  0.02993525  0.02030634  0.06552096 -0.00663422  0.05189705\n",
      "  0.0161475   0.05602203  0.06274265  0.00734532  0.03943711  0.07461723\n",
      "  0.04106663  0.04862897  0.0456511   0.03499723  0.01768815 -0.00491548\n",
      "  0.0079015   0.0215588   0.06211121  0.06265519  0.04280562 -0.00137153]\n",
      "beta_std_errors:  [0.0292615  0.02952862 0.02966241 0.02967078 0.02952082 0.02922144\n",
      " 0.02999159 0.02869158 0.03034811 0.02911879 0.02996414 0.02881058\n",
      " 0.02981591 0.02934942 0.02923176 0.02938957 0.02972748 0.02905953\n",
      " 0.02964948 0.02940769 0.02950913 0.02905667 0.02966153 0.03019262\n",
      " 0.03071779 0.02915121 0.02960488 0.02992165 0.02976742 0.0297249 ]\n",
      "t_values:  [ 1.46923355  1.04856009 -0.01554076  0.45755241  0.28849768  1.92844722\n",
      "  0.95655009  1.04334612  0.66911372  2.25012695 -0.22140524  1.80131894\n",
      "  0.54157342  1.90879519  2.14638656  0.24992942  1.32662135  2.56773738\n",
      "  1.38507098  1.65361403  1.54701586  1.20444729  0.59633278 -0.16280389\n",
      "  0.2572287   0.73955096  2.09800564  2.09397526  1.43800215 -0.04614062]\n"
     ]
    },
    {
     "name": "stderr",
     "output_type": "stream",
     "text": [
      "                                                                                \r"
     ]
    },
    {
     "name": "stdout",
     "output_type": "stream",
     "text": [
      "Betas:  [ 0.04299198  0.03096253 -0.00046098  0.01357594  0.00851669  0.05635201\n",
      "  0.02868846  0.02993525  0.02030634  0.06552096 -0.00663422  0.05189705\n",
      "  0.0161475   0.05602203  0.06274265  0.00734532  0.03943711  0.07461723\n",
      "  0.04106663  0.04862897  0.0456511   0.03499723  0.01768815 -0.00491548\n",
      "  0.0079015   0.0215588   0.06211121  0.06265519  0.04280562 -0.00137153]\n",
      "beta_std_errors:  [0.0292615  0.02952862 0.02966241 0.02967078 0.02952082 0.02922144\n",
      " 0.02999159 0.02869158 0.03034811 0.02911879 0.02996414 0.02881058\n",
      " 0.02981591 0.02934942 0.02923176 0.02938957 0.02972748 0.02905953\n",
      " 0.02964948 0.02940769 0.02950913 0.02905667 0.02966153 0.03019262\n",
      " 0.03071779 0.02915121 0.02960488 0.02992165 0.02976742 0.0297249 ]\n",
      "t_values:  [ 1.46923355  1.04856009 -0.01554076  0.45755241  0.28849768  1.92844722\n",
      "  0.95655009  1.04334612  0.66911372  2.25012695 -0.22140524  1.80131894\n",
      "  0.54157342  1.90879519  2.14638656  0.24992942  1.32662135  2.56773738\n",
      "  1.38507098  1.65361403  1.54701586  1.20444729  0.59633278 -0.16280389\n",
      "  0.2572287   0.73955096  2.09800564  2.09397526  1.43800215 -0.04614062]\n"
     ]
    },
    {
     "name": "stderr",
     "output_type": "stream",
     "text": [
      "                                                                                \r"
     ]
    },
    {
     "name": "stdout",
     "output_type": "stream",
     "text": [
      "Betas:  [ 0.04299198  0.03096253 -0.00046098  0.01357594  0.00851669  0.05635201\n",
      "  0.02868846  0.02993525  0.02030634  0.06552096 -0.00663422  0.05189705\n",
      "  0.0161475   0.05602203  0.06274265  0.00734532  0.03943711  0.07461723\n",
      "  0.04106663  0.04862897  0.0456511   0.03499723  0.01768815 -0.00491548\n",
      "  0.0079015   0.0215588   0.06211121  0.06265519  0.04280562 -0.00137153]\n",
      "beta_std_errors:  [0.0292615  0.02952862 0.02966241 0.02967078 0.02952082 0.02922144\n",
      " 0.02999159 0.02869158 0.03034811 0.02911879 0.02996414 0.02881058\n",
      " 0.02981591 0.02934942 0.02923176 0.02938957 0.02972748 0.02905953\n",
      " 0.02964948 0.02940769 0.02950913 0.02905667 0.02966153 0.03019262\n",
      " 0.03071779 0.02915121 0.02960488 0.02992165 0.02976742 0.0297249 ]\n",
      "t_values:  [ 1.46923355  1.04856009 -0.01554076  0.45755241  0.28849768  1.92844722\n",
      "  0.95655009  1.04334612  0.66911372  2.25012695 -0.22140524  1.80131894\n",
      "  0.54157342  1.90879519  2.14638656  0.24992942  1.32662135  2.56773738\n",
      "  1.38507098  1.65361403  1.54701586  1.20444729  0.59633278 -0.16280389\n",
      "  0.2572287   0.73955096  2.09800564  2.09397526  1.43800215 -0.04614062]\n",
      "Features: 30, Gesamtzeit: 89.24205 Sekunden\n",
      "Features: 30, durchschnittliche Zeit: 8.92420 Sekunden\n",
      "Features: 30, durchschnittliche Zeit pro feature: 0.29747 Sekunden\n"
     ]
    },
    {
     "name": "stderr",
     "output_type": "stream",
     "text": [
      "                                                                                \r"
     ]
    },
    {
     "name": "stdout",
     "output_type": "stream",
     "text": [
      "Betas:  [ 0.03351468  0.03517524 -0.0107353   0.01843021  0.01665111  0.01775513\n",
      "  0.05243761  0.00708536 -0.00274067  0.00050622  0.03834258  0.00223547\n",
      "  0.05263204  0.00033235 -0.00262388  0.0588243  -0.02760962  0.04902697\n",
      " -0.01154764  0.05961257  0.01263292  0.07977915  0.0308185  -0.0066956\n",
      "  0.04860193  0.05163098 -0.03027814 -0.01235795  0.01507727  0.08782645\n",
      "  0.03435507  0.01301019  0.05254075  0.03007586  0.00200437  0.06351197\n",
      "  0.03574223  0.01457898  0.04001585  0.01538939]\n",
      "beta_std_errors:  [0.02962907 0.02895058 0.02960882 0.02917168 0.02890334 0.02915422\n",
      " 0.02916561 0.02867051 0.03008399 0.02957051 0.02931318 0.02905454\n",
      " 0.0295459  0.0289828  0.02998021 0.02898838 0.03028674 0.02906618\n",
      " 0.0301106  0.02960286 0.02944367 0.0294009  0.02970741 0.02933708\n",
      " 0.02976844 0.02914776 0.0295408  0.02926649 0.02968517 0.02918319\n",
      " 0.02929653 0.02924559 0.02980834 0.02962492 0.02965566 0.02999141\n",
      " 0.02933854 0.02982335 0.02974867 0.02934329]\n",
      "t_values:  [ 1.13114184  1.21501001 -0.36257094  0.63178436  0.57609655  0.60900697\n",
      "  1.79792605  0.24713056 -0.0911005   0.01711892  1.30803209  0.07694052\n",
      "  1.78136517  0.01146719 -0.08752029  2.02923742 -0.91160758  1.68673588\n",
      " -0.3835075   2.01374386  0.4290538   2.71349327  1.03740096 -0.22822986\n",
      "  1.6326664   1.77135354 -1.02496015 -0.42225584  0.50790578  3.0094877\n",
      "  1.17266694  0.44485988  1.76261895  1.01522143  0.06758824  2.11767201\n",
      "  1.21826902  0.48884446  1.34513065  0.52446035]\n"
     ]
    },
    {
     "name": "stderr",
     "output_type": "stream",
     "text": [
      "                                                                                \r"
     ]
    },
    {
     "name": "stdout",
     "output_type": "stream",
     "text": [
      "Betas:  [ 0.03351468  0.03517524 -0.0107353   0.01843021  0.01665111  0.01775513\n",
      "  0.05243761  0.00708536 -0.00274067  0.00050622  0.03834258  0.00223547\n",
      "  0.05263204  0.00033235 -0.00262388  0.0588243  -0.02760962  0.04902697\n",
      " -0.01154764  0.05961257  0.01263292  0.07977915  0.0308185  -0.0066956\n",
      "  0.04860193  0.05163098 -0.03027814 -0.01235795  0.01507727  0.08782645\n",
      "  0.03435507  0.01301019  0.05254075  0.03007586  0.00200437  0.06351197\n",
      "  0.03574223  0.01457898  0.04001585  0.01538939]\n",
      "beta_std_errors:  [0.02962907 0.02895058 0.02960882 0.02917168 0.02890334 0.02915422\n",
      " 0.02916561 0.02867051 0.03008399 0.02957051 0.02931318 0.02905454\n",
      " 0.0295459  0.0289828  0.02998021 0.02898838 0.03028674 0.02906618\n",
      " 0.0301106  0.02960286 0.02944367 0.0294009  0.02970741 0.02933708\n",
      " 0.02976844 0.02914776 0.0295408  0.02926649 0.02968517 0.02918319\n",
      " 0.02929653 0.02924559 0.02980834 0.02962492 0.02965566 0.02999141\n",
      " 0.02933854 0.02982335 0.02974867 0.02934329]\n",
      "t_values:  [ 1.13114184  1.21501001 -0.36257094  0.63178436  0.57609655  0.60900697\n",
      "  1.79792605  0.24713056 -0.0911005   0.01711892  1.30803209  0.07694052\n",
      "  1.78136517  0.01146719 -0.08752029  2.02923742 -0.91160758  1.68673588\n",
      " -0.3835075   2.01374386  0.4290538   2.71349327  1.03740096 -0.22822986\n",
      "  1.6326664   1.77135354 -1.02496015 -0.42225584  0.50790578  3.0094877\n",
      "  1.17266694  0.44485988  1.76261895  1.01522143  0.06758824  2.11767201\n",
      "  1.21826902  0.48884446  1.34513065  0.52446035]\n"
     ]
    },
    {
     "name": "stderr",
     "output_type": "stream",
     "text": [
      "                                                                                \r"
     ]
    },
    {
     "name": "stdout",
     "output_type": "stream",
     "text": [
      "Betas:  [ 0.03351468  0.03517524 -0.0107353   0.01843021  0.01665111  0.01775513\n",
      "  0.05243761  0.00708536 -0.00274067  0.00050622  0.03834258  0.00223547\n",
      "  0.05263204  0.00033235 -0.00262388  0.0588243  -0.02760962  0.04902697\n",
      " -0.01154764  0.05961257  0.01263292  0.07977915  0.0308185  -0.0066956\n",
      "  0.04860193  0.05163098 -0.03027814 -0.01235795  0.01507727  0.08782645\n",
      "  0.03435507  0.01301019  0.05254075  0.03007586  0.00200437  0.06351197\n",
      "  0.03574223  0.01457898  0.04001585  0.01538939]\n",
      "beta_std_errors:  [0.02962907 0.02895058 0.02960882 0.02917168 0.02890334 0.02915422\n",
      " 0.02916561 0.02867051 0.03008399 0.02957051 0.02931318 0.02905454\n",
      " 0.0295459  0.0289828  0.02998021 0.02898838 0.03028674 0.02906618\n",
      " 0.0301106  0.02960286 0.02944367 0.0294009  0.02970741 0.02933708\n",
      " 0.02976844 0.02914776 0.0295408  0.02926649 0.02968517 0.02918319\n",
      " 0.02929653 0.02924559 0.02980834 0.02962492 0.02965566 0.02999141\n",
      " 0.02933854 0.02982335 0.02974867 0.02934329]\n",
      "t_values:  [ 1.13114184  1.21501001 -0.36257094  0.63178436  0.57609655  0.60900697\n",
      "  1.79792605  0.24713056 -0.0911005   0.01711892  1.30803209  0.07694052\n",
      "  1.78136517  0.01146719 -0.08752029  2.02923742 -0.91160758  1.68673588\n",
      " -0.3835075   2.01374386  0.4290538   2.71349327  1.03740096 -0.22822986\n",
      "  1.6326664   1.77135354 -1.02496015 -0.42225584  0.50790578  3.0094877\n",
      "  1.17266694  0.44485988  1.76261895  1.01522143  0.06758824  2.11767201\n",
      "  1.21826902  0.48884446  1.34513065  0.52446035]\n"
     ]
    },
    {
     "name": "stderr",
     "output_type": "stream",
     "text": [
      "                                                                                \r"
     ]
    },
    {
     "name": "stdout",
     "output_type": "stream",
     "text": [
      "Betas:  [ 0.03351468  0.03517524 -0.0107353   0.01843021  0.01665111  0.01775513\n",
      "  0.05243761  0.00708536 -0.00274067  0.00050622  0.03834258  0.00223547\n",
      "  0.05263204  0.00033235 -0.00262388  0.0588243  -0.02760962  0.04902697\n",
      " -0.01154764  0.05961257  0.01263292  0.07977915  0.0308185  -0.0066956\n",
      "  0.04860193  0.05163098 -0.03027814 -0.01235795  0.01507727  0.08782645\n",
      "  0.03435507  0.01301019  0.05254075  0.03007586  0.00200437  0.06351197\n",
      "  0.03574223  0.01457898  0.04001585  0.01538939]\n",
      "beta_std_errors:  [0.02962907 0.02895058 0.02960882 0.02917168 0.02890334 0.02915422\n",
      " 0.02916561 0.02867051 0.03008399 0.02957051 0.02931318 0.02905454\n",
      " 0.0295459  0.0289828  0.02998021 0.02898838 0.03028674 0.02906618\n",
      " 0.0301106  0.02960286 0.02944367 0.0294009  0.02970741 0.02933708\n",
      " 0.02976844 0.02914776 0.0295408  0.02926649 0.02968517 0.02918319\n",
      " 0.02929653 0.02924559 0.02980834 0.02962492 0.02965566 0.02999141\n",
      " 0.02933854 0.02982335 0.02974867 0.02934329]\n",
      "t_values:  [ 1.13114184  1.21501001 -0.36257094  0.63178436  0.57609655  0.60900697\n",
      "  1.79792605  0.24713056 -0.0911005   0.01711892  1.30803209  0.07694052\n",
      "  1.78136517  0.01146719 -0.08752029  2.02923742 -0.91160758  1.68673588\n",
      " -0.3835075   2.01374386  0.4290538   2.71349327  1.03740096 -0.22822986\n",
      "  1.6326664   1.77135354 -1.02496015 -0.42225584  0.50790578  3.0094877\n",
      "  1.17266694  0.44485988  1.76261895  1.01522143  0.06758824  2.11767201\n",
      "  1.21826902  0.48884446  1.34513065  0.52446035]\n"
     ]
    },
    {
     "name": "stderr",
     "output_type": "stream",
     "text": [
      "                                                                                \r"
     ]
    },
    {
     "name": "stdout",
     "output_type": "stream",
     "text": [
      "Betas:  [ 0.03351468  0.03517524 -0.0107353   0.01843021  0.01665111  0.01775513\n",
      "  0.05243761  0.00708536 -0.00274067  0.00050622  0.03834258  0.00223547\n",
      "  0.05263204  0.00033235 -0.00262388  0.0588243  -0.02760962  0.04902697\n",
      " -0.01154764  0.05961257  0.01263292  0.07977915  0.0308185  -0.0066956\n",
      "  0.04860193  0.05163098 -0.03027814 -0.01235795  0.01507727  0.08782645\n",
      "  0.03435507  0.01301019  0.05254075  0.03007586  0.00200437  0.06351197\n",
      "  0.03574223  0.01457898  0.04001585  0.01538939]\n",
      "beta_std_errors:  [0.02962907 0.02895058 0.02960882 0.02917168 0.02890334 0.02915422\n",
      " 0.02916561 0.02867051 0.03008399 0.02957051 0.02931318 0.02905454\n",
      " 0.0295459  0.0289828  0.02998021 0.02898838 0.03028674 0.02906618\n",
      " 0.0301106  0.02960286 0.02944367 0.0294009  0.02970741 0.02933708\n",
      " 0.02976844 0.02914776 0.0295408  0.02926649 0.02968517 0.02918319\n",
      " 0.02929653 0.02924559 0.02980834 0.02962492 0.02965566 0.02999141\n",
      " 0.02933854 0.02982335 0.02974867 0.02934329]\n",
      "t_values:  [ 1.13114184  1.21501001 -0.36257094  0.63178436  0.57609655  0.60900697\n",
      "  1.79792605  0.24713056 -0.0911005   0.01711892  1.30803209  0.07694052\n",
      "  1.78136517  0.01146719 -0.08752029  2.02923742 -0.91160758  1.68673588\n",
      " -0.3835075   2.01374386  0.4290538   2.71349327  1.03740096 -0.22822986\n",
      "  1.6326664   1.77135354 -1.02496015 -0.42225584  0.50790578  3.0094877\n",
      "  1.17266694  0.44485988  1.76261895  1.01522143  0.06758824  2.11767201\n",
      "  1.21826902  0.48884446  1.34513065  0.52446035]\n"
     ]
    },
    {
     "name": "stderr",
     "output_type": "stream",
     "text": [
      "                                                                                \r"
     ]
    },
    {
     "name": "stdout",
     "output_type": "stream",
     "text": [
      "Betas:  [ 0.03351468  0.03517524 -0.0107353   0.01843021  0.01665111  0.01775513\n",
      "  0.05243761  0.00708536 -0.00274067  0.00050622  0.03834258  0.00223547\n",
      "  0.05263204  0.00033235 -0.00262388  0.0588243  -0.02760962  0.04902697\n",
      " -0.01154764  0.05961257  0.01263292  0.07977915  0.0308185  -0.0066956\n",
      "  0.04860193  0.05163098 -0.03027814 -0.01235795  0.01507727  0.08782645\n",
      "  0.03435507  0.01301019  0.05254075  0.03007586  0.00200437  0.06351197\n",
      "  0.03574223  0.01457898  0.04001585  0.01538939]\n",
      "beta_std_errors:  [0.02962907 0.02895058 0.02960882 0.02917168 0.02890334 0.02915422\n",
      " 0.02916561 0.02867051 0.03008399 0.02957051 0.02931318 0.02905454\n",
      " 0.0295459  0.0289828  0.02998021 0.02898838 0.03028674 0.02906618\n",
      " 0.0301106  0.02960286 0.02944367 0.0294009  0.02970741 0.02933708\n",
      " 0.02976844 0.02914776 0.0295408  0.02926649 0.02968517 0.02918319\n",
      " 0.02929653 0.02924559 0.02980834 0.02962492 0.02965566 0.02999141\n",
      " 0.02933854 0.02982335 0.02974867 0.02934329]\n",
      "t_values:  [ 1.13114184  1.21501001 -0.36257094  0.63178436  0.57609655  0.60900697\n",
      "  1.79792605  0.24713056 -0.0911005   0.01711892  1.30803209  0.07694052\n",
      "  1.78136517  0.01146719 -0.08752029  2.02923742 -0.91160758  1.68673588\n",
      " -0.3835075   2.01374386  0.4290538   2.71349327  1.03740096 -0.22822986\n",
      "  1.6326664   1.77135354 -1.02496015 -0.42225584  0.50790578  3.0094877\n",
      "  1.17266694  0.44485988  1.76261895  1.01522143  0.06758824  2.11767201\n",
      "  1.21826902  0.48884446  1.34513065  0.52446035]\n"
     ]
    },
    {
     "name": "stderr",
     "output_type": "stream",
     "text": [
      "                                                                                \r"
     ]
    },
    {
     "name": "stdout",
     "output_type": "stream",
     "text": [
      "Betas:  [ 0.03351468  0.03517524 -0.0107353   0.01843021  0.01665111  0.01775513\n",
      "  0.05243761  0.00708536 -0.00274067  0.00050622  0.03834258  0.00223547\n",
      "  0.05263204  0.00033235 -0.00262388  0.0588243  -0.02760962  0.04902697\n",
      " -0.01154764  0.05961257  0.01263292  0.07977915  0.0308185  -0.0066956\n",
      "  0.04860193  0.05163098 -0.03027814 -0.01235795  0.01507727  0.08782645\n",
      "  0.03435507  0.01301019  0.05254075  0.03007586  0.00200437  0.06351197\n",
      "  0.03574223  0.01457898  0.04001585  0.01538939]\n",
      "beta_std_errors:  [0.02962907 0.02895058 0.02960882 0.02917168 0.02890334 0.02915422\n",
      " 0.02916561 0.02867051 0.03008399 0.02957051 0.02931318 0.02905454\n",
      " 0.0295459  0.0289828  0.02998021 0.02898838 0.03028674 0.02906618\n",
      " 0.0301106  0.02960286 0.02944367 0.0294009  0.02970741 0.02933708\n",
      " 0.02976844 0.02914776 0.0295408  0.02926649 0.02968517 0.02918319\n",
      " 0.02929653 0.02924559 0.02980834 0.02962492 0.02965566 0.02999141\n",
      " 0.02933854 0.02982335 0.02974867 0.02934329]\n",
      "t_values:  [ 1.13114184  1.21501001 -0.36257094  0.63178436  0.57609655  0.60900697\n",
      "  1.79792605  0.24713056 -0.0911005   0.01711892  1.30803209  0.07694052\n",
      "  1.78136517  0.01146719 -0.08752029  2.02923742 -0.91160758  1.68673588\n",
      " -0.3835075   2.01374386  0.4290538   2.71349327  1.03740096 -0.22822986\n",
      "  1.6326664   1.77135354 -1.02496015 -0.42225584  0.50790578  3.0094877\n",
      "  1.17266694  0.44485988  1.76261895  1.01522143  0.06758824  2.11767201\n",
      "  1.21826902  0.48884446  1.34513065  0.52446035]\n"
     ]
    },
    {
     "name": "stderr",
     "output_type": "stream",
     "text": [
      "                                                                                \r"
     ]
    },
    {
     "name": "stdout",
     "output_type": "stream",
     "text": [
      "Betas:  [ 0.03351468  0.03517524 -0.0107353   0.01843021  0.01665111  0.01775513\n",
      "  0.05243761  0.00708536 -0.00274067  0.00050622  0.03834258  0.00223547\n",
      "  0.05263204  0.00033235 -0.00262388  0.0588243  -0.02760962  0.04902697\n",
      " -0.01154764  0.05961257  0.01263292  0.07977915  0.0308185  -0.0066956\n",
      "  0.04860193  0.05163098 -0.03027814 -0.01235795  0.01507727  0.08782645\n",
      "  0.03435507  0.01301019  0.05254075  0.03007586  0.00200437  0.06351197\n",
      "  0.03574223  0.01457898  0.04001585  0.01538939]\n",
      "beta_std_errors:  [0.02962907 0.02895058 0.02960882 0.02917168 0.02890334 0.02915422\n",
      " 0.02916561 0.02867051 0.03008399 0.02957051 0.02931318 0.02905454\n",
      " 0.0295459  0.0289828  0.02998021 0.02898838 0.03028674 0.02906618\n",
      " 0.0301106  0.02960286 0.02944367 0.0294009  0.02970741 0.02933708\n",
      " 0.02976844 0.02914776 0.0295408  0.02926649 0.02968517 0.02918319\n",
      " 0.02929653 0.02924559 0.02980834 0.02962492 0.02965566 0.02999141\n",
      " 0.02933854 0.02982335 0.02974867 0.02934329]\n",
      "t_values:  [ 1.13114184  1.21501001 -0.36257094  0.63178436  0.57609655  0.60900697\n",
      "  1.79792605  0.24713056 -0.0911005   0.01711892  1.30803209  0.07694052\n",
      "  1.78136517  0.01146719 -0.08752029  2.02923742 -0.91160758  1.68673588\n",
      " -0.3835075   2.01374386  0.4290538   2.71349327  1.03740096 -0.22822986\n",
      "  1.6326664   1.77135354 -1.02496015 -0.42225584  0.50790578  3.0094877\n",
      "  1.17266694  0.44485988  1.76261895  1.01522143  0.06758824  2.11767201\n",
      "  1.21826902  0.48884446  1.34513065  0.52446035]\n"
     ]
    },
    {
     "name": "stderr",
     "output_type": "stream",
     "text": [
      "                                                                                \r"
     ]
    },
    {
     "name": "stdout",
     "output_type": "stream",
     "text": [
      "Betas:  [ 0.03351468  0.03517524 -0.0107353   0.01843021  0.01665111  0.01775513\n",
      "  0.05243761  0.00708536 -0.00274067  0.00050622  0.03834258  0.00223547\n",
      "  0.05263204  0.00033235 -0.00262388  0.0588243  -0.02760962  0.04902697\n",
      " -0.01154764  0.05961257  0.01263292  0.07977915  0.0308185  -0.0066956\n",
      "  0.04860193  0.05163098 -0.03027814 -0.01235795  0.01507727  0.08782645\n",
      "  0.03435507  0.01301019  0.05254075  0.03007586  0.00200437  0.06351197\n",
      "  0.03574223  0.01457898  0.04001585  0.01538939]\n",
      "beta_std_errors:  [0.02962907 0.02895058 0.02960882 0.02917168 0.02890334 0.02915422\n",
      " 0.02916561 0.02867051 0.03008399 0.02957051 0.02931318 0.02905454\n",
      " 0.0295459  0.0289828  0.02998021 0.02898838 0.03028674 0.02906618\n",
      " 0.0301106  0.02960286 0.02944367 0.0294009  0.02970741 0.02933708\n",
      " 0.02976844 0.02914776 0.0295408  0.02926649 0.02968517 0.02918319\n",
      " 0.02929653 0.02924559 0.02980834 0.02962492 0.02965566 0.02999141\n",
      " 0.02933854 0.02982335 0.02974867 0.02934329]\n",
      "t_values:  [ 1.13114184  1.21501001 -0.36257094  0.63178436  0.57609655  0.60900697\n",
      "  1.79792605  0.24713056 -0.0911005   0.01711892  1.30803209  0.07694052\n",
      "  1.78136517  0.01146719 -0.08752029  2.02923742 -0.91160758  1.68673588\n",
      " -0.3835075   2.01374386  0.4290538   2.71349327  1.03740096 -0.22822986\n",
      "  1.6326664   1.77135354 -1.02496015 -0.42225584  0.50790578  3.0094877\n",
      "  1.17266694  0.44485988  1.76261895  1.01522143  0.06758824  2.11767201\n",
      "  1.21826902  0.48884446  1.34513065  0.52446035]\n"
     ]
    },
    {
     "name": "stderr",
     "output_type": "stream",
     "text": [
      "                                                                                \r"
     ]
    },
    {
     "name": "stdout",
     "output_type": "stream",
     "text": [
      "Betas:  [ 0.03351468  0.03517524 -0.0107353   0.01843021  0.01665111  0.01775513\n",
      "  0.05243761  0.00708536 -0.00274067  0.00050622  0.03834258  0.00223547\n",
      "  0.05263204  0.00033235 -0.00262388  0.0588243  -0.02760962  0.04902697\n",
      " -0.01154764  0.05961257  0.01263292  0.07977915  0.0308185  -0.0066956\n",
      "  0.04860193  0.05163098 -0.03027814 -0.01235795  0.01507727  0.08782645\n",
      "  0.03435507  0.01301019  0.05254075  0.03007586  0.00200437  0.06351197\n",
      "  0.03574223  0.01457898  0.04001585  0.01538939]\n",
      "beta_std_errors:  [0.02962907 0.02895058 0.02960882 0.02917168 0.02890334 0.02915422\n",
      " 0.02916561 0.02867051 0.03008399 0.02957051 0.02931318 0.02905454\n",
      " 0.0295459  0.0289828  0.02998021 0.02898838 0.03028674 0.02906618\n",
      " 0.0301106  0.02960286 0.02944367 0.0294009  0.02970741 0.02933708\n",
      " 0.02976844 0.02914776 0.0295408  0.02926649 0.02968517 0.02918319\n",
      " 0.02929653 0.02924559 0.02980834 0.02962492 0.02965566 0.02999141\n",
      " 0.02933854 0.02982335 0.02974867 0.02934329]\n",
      "t_values:  [ 1.13114184  1.21501001 -0.36257094  0.63178436  0.57609655  0.60900697\n",
      "  1.79792605  0.24713056 -0.0911005   0.01711892  1.30803209  0.07694052\n",
      "  1.78136517  0.01146719 -0.08752029  2.02923742 -0.91160758  1.68673588\n",
      " -0.3835075   2.01374386  0.4290538   2.71349327  1.03740096 -0.22822986\n",
      "  1.6326664   1.77135354 -1.02496015 -0.42225584  0.50790578  3.0094877\n",
      "  1.17266694  0.44485988  1.76261895  1.01522143  0.06758824  2.11767201\n",
      "  1.21826902  0.48884446  1.34513065  0.52446035]\n",
      "Features: 40, Gesamtzeit: 93.56691 Sekunden\n",
      "Features: 40, durchschnittliche Zeit: 9.35669 Sekunden\n",
      "Features: 40, durchschnittliche Zeit pro feature: 0.23392 Sekunden\n"
     ]
    }
   ],
   "source": [
    "import time\n",
    "from pyspark.sql import SparkSession\n",
    "import math\n",
    "\n",
    "\n",
    "def create_random_block_matrix_and_vector(n_rows: int, n_cols: int, row_block_count: int, col_block_count: int, sc):\n",
    "    \"\"\"\n",
    "    Create random BlockMatrices for testing linear regression.\n",
    "    \n",
    "    Args:\n",
    "        n_rows (int): Number of rows in the feature matrix\n",
    "        n_cols (int): Number of columns in the feature matrix\n",
    "        row_block_count (int): Number of rows in each block\n",
    "        col_block_count (int): Number of columns in each block\n",
    "        sc: SparkContext for parallelization\n",
    "        \n",
    "    Returns:\n",
    "        tuple[BlockMatrix, BlockMatrix]: Random feature matrix X and target vector Y as BlockMatrices,\n",
    "        where X is of shape (n_rows, n_cols) and Y is of shape (n_rows, 1)\n",
    "    \"\"\"\n",
    "    np.random.seed(42)\n",
    "    X = np.random.rand(n_rows, n_cols)\n",
    "    Y = np.random.rand(n_rows, 1)\n",
    "\n",
    "    X_block_matrix = create_block_matrix_from_numpy(X, row_block_count, col_block_count, sc)\n",
    "    Y_block_matrix = create_block_matrix_from_numpy(Y, row_block_count, 1, sc)\n",
    "    \n",
    "    return X_block_matrix, Y_block_matrix\n",
    "\n",
    "#Hyperparameter\n",
    "#n_features_list = [10, 50, 100, 500, 1000]\n",
    "n_features_list = [5, 10, 20, 30, 40]\n",
    "n_rows = max(n_features_list) * 30\n",
    "elapsed_times = []\n",
    "avg_elapsed_times = []\n",
    "times_per_feature = []\n",
    "n_times = 10\n",
    "n_workers = 4\n",
    "\n",
    "\n",
    "# Create Sparksession\n",
    "spark = SparkSession.builder \\\n",
    "    .appName(\"Cluster-Based SVD Regression\") \\\n",
    "    .master(\"spark://spark-master:7077\") \\\n",
    "    .config(\"spark.driver.memory\", \"1g\") \\\n",
    "    .config(\"spark.executor.memory\", \"1g\") \\\n",
    "    .config(\"spark.default.parallelism\", n_workers) \\\n",
    "    .config(\"spark.sql.shuffle.partitions\", n_workers) \\\n",
    "    .getOrCreate()\n",
    "\n",
    "sc = spark.sparkContext\n",
    "\n",
    "# Run OLS for n-features and measure performance\n",
    "for n_features in n_features_list:\n",
    "    row_block_count = math.ceil(n_rows/n_workers)\n",
    "    col_block_count = math.ceil(n_features/n_workers)\n",
    "    matX, matY = create_random_block_matrix_and_vector(n_rows, n_features,row_block_count,col_block_count,sc)  \n",
    "    elapsed_time = 0\n",
    "\n",
    "    \n",
    "    for a in range(n_times):\n",
    "        start_time = time.time()\n",
    "        stat = lm_values(matX, matY, row_block_count, col_block_count, sc)\n",
    "        elapsed_time = elapsed_time + (time.time() - start_time)\n",
    "        print(\"Betas: \",stat['betas'])\n",
    "        print(\"beta_std_errors: \",stat['beta_std_errors'])\n",
    "        print(\"t_values: \",stat['t_values'])\n",
    "        \n",
    "    avg_elapsed_time = elapsed_time / n_times \n",
    "    time_per_feature = avg_elapsed_time / n_features \n",
    "    elapsed_times.append(elapsed_time)\n",
    "    avg_elapsed_times.append(avg_elapsed_time)\n",
    "    times_per_feature.append(time_per_feature)\n",
    "    print(f\"Features: {n_features}, Gesamtzeit: {elapsed_time:.5f} Sekunden\")\n",
    "    print(f\"Features: {n_features}, durchschnittliche Zeit: {avg_elapsed_time:.5f} Sekunden\")\n",
    "    print(f\"Features: {n_features}, durchschnittliche Zeit pro feature: {time_per_feature:.5f} Sekunden\")\n",
    "    \n"
   ]
  },
  {
   "cell_type": "code",
   "execution_count": 126,
   "id": "40d4b17d-e576-4006-b49f-7c378f41aabf",
   "metadata": {},
   "outputs": [
    {
     "data": {
      "image/png": "[encoded data removed]",
      "text/plain": [
       "<Figure size 1200x600 with 1 Axes>"
      ]
     },
     "metadata": {},
     "output_type": "display_data"
    },
    {
     "data": {
      "image/png": "[encoded data removed]",
      "text/plain": [
       "<Figure size 1200x600 with 1 Axes>"
      ]
     },
     "metadata": {},
     "output_type": "display_data"
    }
   ],
   "source": [
    "import matplotlib.pyplot as plt\n",
    "\n",
    "fig2, ax2 = plt.subplots(figsize=(12, 6))\n",
    "line2 = ax2.plot(n_features_list, avg_elapsed_times, 'r-', marker='s', label='Durchschnittliche Zeit')\n",
    "\n",
    "ax2.set_xlabel('Anzahl der Features')\n",
    "ax2.set_ylabel('Durchschnittliche Zeit (Sekunden)', color='r')\n",
    "\n",
    "plt.title('Laufzeitanalyse: Durchschnittliche Zeit', fontsize=16)\n",
    "\n",
    "ax2.legend(loc='upper left')\n",
    "\n",
    "ax2.grid(True, linestyle='--', alpha=0.7)\n",
    "\n",
    "for x, y in zip(n_features_list, avg_elapsed_times):\n",
    "    ax2.annotate(f'{y:.2f}s', (x, y), textcoords=\"offset points\", xytext=(0,10), ha='center', color='r')\n",
    "\n",
    "plt.tight_layout()\n",
    "\n",
    "plt.show()\n",
    "\n",
    "# Plot für durchschnittliche Zeit pro Feature\n",
    "fig3, ax3 = plt.subplots(figsize=(12, 6))\n",
    "line3 = ax3.plot(n_features_list, times_per_feature, 'g-', marker='s', label='Zeit pro Feature')\n",
    "ax3.set_xlabel('Anzahl der Features')\n",
    "ax3.set_ylabel('Zeit pro Feature (Sekunden)', color='g')\n",
    "plt.title('Laufzeitanalyse: Zeit pro Feature', fontsize=16)\n",
    "ax3.legend(loc='upper right')\n",
    "ax3.grid(True, linestyle='--', alpha=0.7)\n",
    "\n",
    "# Annotationen für die Datenpunkte\n",
    "for x, y in zip(n_features_list, times_per_feature):\n",
    "    ax3.annotate(f'{y:.3f}s', (x, y), textcoords=\"offset points\", xytext=(0,10), ha='center', color='g')\n",
    "\n",
    "plt.tight_layout()\n",
    "plt.show()"
   ]
  },
  {
   "cell_type": "code",
   "execution_count": null,
   "id": "a800383d-a556-4482-b946-41566bd438f1",
   "metadata": {},
   "outputs": [],
   "source": []
  },
  {
   "cell_type": "code",
   "execution_count": null,
   "id": "ef65e9c1-defc-4d60-adcb-980c415c4324",
   "metadata": {},
   "outputs": [],
   "source": []
  },
  {
   "cell_type": "code",
   "execution_count": null,
   "id": "715f909e-945b-4cc4-9845-8af3b457328b",
   "metadata": {},
   "outputs": [],
   "source": []
  },
  {
   "cell_type": "code",
   "execution_count": null,
   "id": "6e68f16c-17dd-4322-a74e-1c8a76d906e0",
   "metadata": {},
   "outputs": [],
   "source": []
  }
 ],
 "metadata": {
  "kernelspec": {
   "display_name": "Python 3 (ipykernel)",
   "language": "python",
   "name": "python3"
  },
  "language_info": {
   "codemirror_mode": {
    "name": "ipython",
    "version": 3
   },
   "file_extension": ".py",
   "mimetype": "text/x-python",
   "name": "python",
   "nbconvert_exporter": "python",
   "pygments_lexer": "ipython3",
   "version": "3.12.6"
  }
 },
 "nbformat": 4,
 "nbformat_minor": 5
}
